{
 "cells": [
  {
   "cell_type": "markdown",
   "id": "7590b488",
   "metadata": {},
   "source": [
    "## just testing my cnn code"
   ]
  },
  {
   "cell_type": "code",
   "execution_count": 4,
   "id": "377bb341",
   "metadata": {},
   "outputs": [
    {
     "name": "stdout",
     "output_type": "stream",
     "text": [
      "10\n"
     ]
    }
   ],
   "source": [
    "a=10\n",
    "print(a)"
   ]
  },
  {
   "cell_type": "code",
   "execution_count": 5,
   "id": "8b3e13e1",
   "metadata": {},
   "outputs": [],
   "source": [
    "import torch\n",
    "import torch.nn as nn"
   ]
  },
  {
   "cell_type": "markdown",
   "id": "4b904f85",
   "metadata": {},
   "source": [
    "Create a batch of 2 dummy images (grayscale, 28x28)"
   ]
  },
  {
   "cell_type": "code",
   "execution_count": 6,
   "id": "5c2ba746",
   "metadata": {},
   "outputs": [],
   "source": [
    "input_data = torch.rand(2, 1, 28, 28)"
   ]
  },
  {
   "cell_type": "code",
   "execution_count": 8,
   "id": "b8e8eb14",
   "metadata": {},
   "outputs": [
    {
     "name": "stdout",
     "output_type": "stream",
     "text": [
      "torch.Size([2, 1, 28, 28])\n"
     ]
    }
   ],
   "source": [
    "print(input_data.shape)"
   ]
  },
  {
   "cell_type": "markdown",
   "id": "e4ed7283",
   "metadata": {},
   "source": [
    "First image (part of it):"
   ]
  },
  {
   "cell_type": "code",
   "execution_count": 11,
   "id": "0a14f547",
   "metadata": {},
   "outputs": [
    {
     "name": "stdout",
     "output_type": "stream",
     "text": [
      "[[0.13172936 0.07589221 0.189479   0.9848409 ]\n",
      " [0.03295135 0.90888536 0.1536805  0.06567651]\n",
      " [0.0325948  0.05324107 0.42519403 0.44780314]\n",
      " [0.44516385 0.70083654 0.8868502  0.30867028]]\n"
     ]
    }
   ],
   "source": [
    "im0 = input_data[0,0,0:4,0:4].cpu().numpy()\n",
    "print(im0)"
   ]
  },
  {
   "cell_type": "code",
   "execution_count": 12,
   "id": "f3a28a71",
   "metadata": {},
   "outputs": [
    {
     "data": {
      "image/png": "[encoded data removed]",
      "text/plain": [
       "<Figure size 640x480 with 1 Axes>"
      ]
     },
     "metadata": {},
     "output_type": "display_data"
    }
   ],
   "source": [
    "import numpy as np\n",
    "import matplotlib.pyplot as plt\n",
    "\n",
    "plt.imshow(im0, cmap='gray')\n",
    "plt.show()"
   ]
  },
  {
   "cell_type": "code",
   "execution_count": null,
   "id": "0d45a2fe",
   "metadata": {},
   "outputs": [],
   "source": []
  }
 ],
 "metadata": {
  "kernelspec": {
   "display_name": "env",
   "language": "python",
   "name": "python3"
  },
  "language_info": {
   "codemirror_mode": {
    "name": "ipython",
    "version": 3
   },
   "file_extension": ".py",
   "mimetype": "text/x-python",
   "name": "python",
   "nbconvert_exporter": "python",
   "pygments_lexer": "ipython3",
   "version": "3.13.3"
  }
 },
 "nbformat": 4,
 "nbformat_minor": 5
}
